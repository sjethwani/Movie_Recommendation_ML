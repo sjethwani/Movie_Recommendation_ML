{
 "cells": [
  {
   "cell_type": "code",
   "execution_count": null,
   "metadata": {},
   "outputs": [],
   "source": [
    "import numpy as np\n",
    "from sklearn.feature_extraction import DictVectorizer\n",
    "from pyfm import pylibfm\n",
    "\n",
    "import json\n"
   ]
  },
  {
   "cell_type": "code",
   "execution_count": null,
   "metadata": {},
   "outputs": [],
   "source": [
    "# Read in ratings data\n",
    "def loadMovieRatings(filename,path=\"ml-latest-small/\"):\n",
    "    data = []\n",
    "    y = []\n",
    "    users=set()\n",
    "    items=set()\n",
    "    with open(path+filename) as f:\n",
    "        for line in f:\n",
    "            (user,movieid,rating,ts)=line.split(',')\n",
    "            if (user != \"userId\"):\n",
    "                data.append({ \"user_id\": str(user), \"movie_id\": str(movieid)})\n",
    "                y.append(float(rating))\n",
    "                users.add(user)\n",
    "                items.add(movieid)\n",
    "\n",
    "    return (data, np.array(y), users, items)\n"
   ]
  },
  {
   "cell_type": "code",
   "execution_count": null,
   "metadata": {},
   "outputs": [],
   "source": [
    "# Read in movie ID and movie names\n",
    "def loadMovieNames(filename,items,path=\"ml-latest-small/\"):\n",
    "    movie_id_name = []\n",
    "    words = []\n",
    "    #filename=\"u.item\"\n",
    "    with open(path+filename,encoding='latin-1') as f:\n",
    "        for line in f:\n",
    "            words = line.split(',')\n",
    "            movie_id = words[0]\n",
    "            movie_tmdbid = words[1]\n",
    "            movie_poster = words[2]\n",
    "            movie_genre = words[3]\n",
    "            movie_name = words[4]\n",
    "            movie_name = movie_name.rstrip()\n",
    "            #movie_id_name.insert(movie_id,movie_name)\n",
    "            #(movie_id,movie_name,other_stuff)=line.split('|')\n",
    "            if (movie_id != \"movieId\"):    \n",
    "                movie_id_name.append({ \"movie_name\": str(movie_name), \"movie_id\": str(movie_id), \"movie_genre\": str(movie_genre), \"movie_tmdbid\": str(movie_tmdbid), \"movie_poster\": str(movie_poster)})\n",
    "            #y.append(float(rating))\n",
    "            #users.add(user)\n",
    "            #items.add(movieid)\n",
    "        #print(movie_id_name)\n",
    "\n",
    "    return (movie_id_name)\n"
   ]
  },
  {
   "cell_type": "code",
   "execution_count": null,
   "metadata": {},
   "outputs": [],
   "source": [
    "# Read in movie ID and return TMDBID for URL and Posters\n",
    "def getTmdbId(filename,items,path=\"ml-latest-small/\"):\n",
    "    words = []\n",
    "    with open(path+filename,encoding='utf-8') as f:\n",
    "        for line in f:\n",
    "            words = line.split(',')\n",
    "            movie_id = words[0]\n",
    "            tmdbid = words[2]\n",
    "            #movie_id_name.insert(movie_id,movie_name)\n",
    "            #(movie_id,movie_name,other_stuff)=line.split('|')\n",
    "            if (items == movie_id):\n",
    "                #print(movie_id)\n",
    "                return tmdbid\n",
    "\n",
    "    return (0)\n"
   ]
  },
  {
   "cell_type": "code",
   "execution_count": null,
   "metadata": {},
   "outputs": [],
   "source": [
    "# Read in movie ID and return Movie Name\n",
    "def getMovieName(movie_id,movie_id_name):\n",
    "    for movie in movie_id_name:\n",
    "        if (movie['movie_id'] == movie_id):\n",
    "            #print(\"Inside Function \"+movie_id)\n",
    "            return(movie['movie_name'])\n",
    "        \n",
    "    "
   ]
  },
  {
   "cell_type": "code",
   "execution_count": null,
   "metadata": {},
   "outputs": [],
   "source": [
    "# Read in movie ID and return Movie URL\n",
    "def getMovieGenre(movie_id,movie_id_name):\n",
    "    for movie in movie_id_name:\n",
    "        if (movie['movie_id'] == movie_id):\n",
    "            #print(\"Inside Function \"+movie_id)\n",
    "            return(movie['movie_genre'])\n",
    "        "
   ]
  },
  {
   "cell_type": "code",
   "execution_count": null,
   "metadata": {},
   "outputs": [],
   "source": [
    "# Read in movie ID and return Movie Poster\n",
    "def getMoviePoster(movie_id,movie_id_name):\n",
    "    for movie in movie_id_name:\n",
    "        if (movie['movie_id'] == movie_id):\n",
    "            #print(\"Inside Function \"+movie_id)\n",
    "            return(movie['movie_poster'])"
   ]
  },
  {
   "cell_type": "code",
   "execution_count": null,
   "metadata": {},
   "outputs": [],
   "source": [
    "# Read in movie ID and return Movie URL\n",
    "def getMovieTmdbId(movie_id,movie_id_name):\n",
    "    for movie in movie_id_name:\n",
    "        if (movie['movie_id'] == movie_id):\n",
    "            #print(\"Inside Function \"+movie_id)\n",
    "            return(movie['movie_tmdbid'])\n",
    "        "
   ]
  },
  {
   "cell_type": "code",
   "execution_count": null,
   "metadata": {},
   "outputs": [],
   "source": [
    "(train_data, y_train, train_users, train_items) = loadMovieRatings(\"ratings.csv\")\n",
    "#(test_data, y_test, test_users, test_items) = loadMovieRatings(\"ua.test\")\n",
    "(movie_id_name) = loadMovieNames(\"movies.csv\",train_items)\n",
    "v = DictVectorizer()\n",
    "X_train = v.fit_transform(train_data)\n",
    "#X_test = v.transform(test_data)"
   ]
  },
  {
   "cell_type": "code",
   "execution_count": null,
   "metadata": {},
   "outputs": [],
   "source": [
    "train_data"
   ]
  },
  {
   "cell_type": "code",
   "execution_count": null,
   "metadata": {},
   "outputs": [],
   "source": [
    "for movie in movie_id_name:\n",
    "    print(movie['movie_id'])\n",
    "    print(movie['movie_name'])\n",
    "    print(movie['movie_genre'])\n",
    "    print(movie['movie_tmdbid'])\n",
    "    print(movie['movie_poster'])"
   ]
  },
  {
   "cell_type": "code",
   "execution_count": null,
   "metadata": {},
   "outputs": [],
   "source": [
    "print(X_train)"
   ]
  },
  {
   "cell_type": "code",
   "execution_count": null,
   "metadata": {},
   "outputs": [],
   "source": [
    "fm = pylibfm.FM(num_factors=10, num_iter=100, verbose=True, task=\"regression\", initial_learning_rate=0.001, learning_rate_schedule=\"optimal\")"
   ]
  },
  {
   "cell_type": "code",
   "execution_count": null,
   "metadata": {},
   "outputs": [],
   "source": [
    "fm.fit(X_train,y_train)"
   ]
  },
  {
   "cell_type": "code",
   "execution_count": null,
   "metadata": {},
   "outputs": [],
   "source": [
    "preds = fm.predict(X_test)"
   ]
  },
  {
   "cell_type": "code",
   "execution_count": null,
   "metadata": {},
   "outputs": [],
   "source": [
    "fm"
   ]
  },
  {
   "cell_type": "code",
   "execution_count": null,
   "metadata": {},
   "outputs": [],
   "source": [
    "import pandas as pd\n",
    "import numpy as np"
   ]
  },
  {
   "cell_type": "code",
   "execution_count": null,
   "metadata": {},
   "outputs": [],
   "source": [
    "app_df = pd.DataFrame(columns=['user_id','movie_id','rating'])"
   ]
  },
  {
   "cell_type": "code",
   "execution_count": null,
   "metadata": {},
   "outputs": [],
   "source": [
    "for user in list(train_users):\n",
    "    print(user)"
   ]
  },
  {
   "cell_type": "code",
   "execution_count": null,
   "metadata": {
    "scrolled": false
   },
   "outputs": [],
   "source": [
    "try:\n",
    "    f = open(\"predicted_ratings_final.csv\", \"w\")\n",
    "    f.write(\"userId\\t\"+\"movieId\\t\"+\"rating\\t\"+\"tmdbId\\t\"+\"moviePoster\\t\"+\"movieGenre\\t\"+\"movieName\")\n",
    "    f.write(\"\\n\")\n",
    "except:\n",
    "    print(\"file open error\")\n",
    "    \n",
    "for user in list(train_users):\n",
    "    #print(user)\n",
    "    if (int(user) < 10):\n",
    "        for item in list(train_items):\n",
    "            new_predict = fm.predict(v.transform([{'movie_id': str(item), 'user_id': str(user)}]))\n",
    "            try:\n",
    "                #print(user)\n",
    "                movie_name = getMovieName(item,movie_id_name)\n",
    "                movie_genre = getMovieGenre(item,movie_id_name)\n",
    "                movie_poster = getMoviePoster(item,movie_id_name)\n",
    "                movie_genre = movie_genre.rstrip()\n",
    "                tmdbid = getMovieTmdbId(item,movie_id_name)\n",
    "                tmdbid = tmdbid.rstrip()\n",
    "                #if (movie_name != \"\" & movie_genre != \"\"):  \n",
    "                f.write(str(user)+\"\\t\")\n",
    "                f.write(str(item)+\"\\t\")\n",
    "                f.write(str(new_predict[0])+\"\\t\")\n",
    "                f.write(str(tmdbid)+\"\\t\")\n",
    "                f.write(str(movie_poster)+\"\\t\")\n",
    "                f.write(str(movie_genre)+\"\\t\")\n",
    "                f.write(str(movie_name))\n",
    "                f.write(\"\\n\")\n",
    "            except:\n",
    "                f.write(\"\\n\")\n",
    "                print(\"Error\")\n",
    "            "
   ]
  },
  {
   "cell_type": "code",
   "execution_count": null,
   "metadata": {},
   "outputs": [],
   "source": [
    "f1"
   ]
  },
  {
   "cell_type": "code",
   "execution_count": null,
   "metadata": {},
   "outputs": [],
   "source": []
  },
  {
   "cell_type": "code",
   "execution_count": null,
   "metadata": {},
   "outputs": [],
   "source": []
  },
  {
   "cell_type": "code",
   "execution_count": null,
   "metadata": {},
   "outputs": [],
   "source": []
  },
  {
   "cell_type": "code",
   "execution_count": null,
   "metadata": {},
   "outputs": [],
   "source": []
  },
  {
   "cell_type": "code",
   "execution_count": null,
   "metadata": {},
   "outputs": [],
   "source": []
  },
  {
   "cell_type": "code",
   "execution_count": null,
   "metadata": {},
   "outputs": [],
   "source": []
  },
  {
   "cell_type": "code",
   "execution_count": null,
   "metadata": {},
   "outputs": [],
   "source": []
  },
  {
   "cell_type": "code",
   "execution_count": null,
   "metadata": {},
   "outputs": [],
   "source": []
  },
  {
   "cell_type": "code",
   "execution_count": null,
   "metadata": {},
   "outputs": [],
   "source": []
  },
  {
   "cell_type": "code",
   "execution_count": null,
   "metadata": {},
   "outputs": [],
   "source": []
  },
  {
   "cell_type": "code",
   "execution_count": null,
   "metadata": {},
   "outputs": [],
   "source": []
  },
  {
   "cell_type": "code",
   "execution_count": null,
   "metadata": {},
   "outputs": [],
   "source": []
  },
  {
   "cell_type": "code",
   "execution_count": null,
   "metadata": {},
   "outputs": [],
   "source": []
  },
  {
   "cell_type": "code",
   "execution_count": null,
   "metadata": {},
   "outputs": [],
   "source": []
  },
  {
   "cell_type": "code",
   "execution_count": null,
   "metadata": {},
   "outputs": [],
   "source": []
  }
 ],
 "metadata": {
  "kernelspec": {
   "display_name": "Python 3",
   "language": "python",
   "name": "python3"
  },
  "language_info": {
   "codemirror_mode": {
    "name": "ipython",
    "version": 3
   },
   "file_extension": ".py",
   "mimetype": "text/x-python",
   "name": "python",
   "nbconvert_exporter": "python",
   "pygments_lexer": "ipython3",
   "version": "3.6.4"
  }
 },
 "nbformat": 4,
 "nbformat_minor": 2
}
